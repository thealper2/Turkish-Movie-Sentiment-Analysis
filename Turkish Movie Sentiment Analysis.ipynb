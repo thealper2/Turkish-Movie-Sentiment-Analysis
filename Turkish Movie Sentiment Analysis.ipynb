{
 "cells": [
  {
   "cell_type": "code",
   "execution_count": 35,
   "id": "ad3bfed2",
   "metadata": {},
   "outputs": [],
   "source": [
    "import pandas as pd\n",
    "import numpy as np\n",
    "from sklearn.decomposition import PCA\n",
    "from sklearn.feature_extraction.text import CountVectorizer\n",
    "from sklearn.model_selection import train_test_split\n",
    "from sklearn.linear_model import LinearRegression, Lasso, Ridge, ElasticNet\n",
    "from sklearn.tree import DecisionTreeRegressor\n",
    "from sklearn.ensemble import RandomForestRegressor, GradientBoostingRegressor\n",
    "from sklearn.neighbors import KNeighborsRegressor\n",
    "from sklearn.metrics import mean_absolute_error\n",
    "import xgboost as xgb\n",
    "import nltk\n",
    "import string\n",
    "import re\n",
    "from nltk.corpus import stopwords\n",
    "from nltk.stem import WordNetLemmatizer, PorterStemmer\n",
    "import pickle"
   ]
  },
  {
   "cell_type": "code",
   "execution_count": 6,
   "id": "982a410c",
   "metadata": {},
   "outputs": [],
   "source": [
    "df = pd.read_csv(\"turkish_movie_sentiment_dataset.csv\")"
   ]
  },
  {
   "cell_type": "code",
   "execution_count": 8,
   "id": "ba8ffaa3",
   "metadata": {},
   "outputs": [
    {
     "data": {
      "text/plain": [
       "comment      0\n",
       "film_name    0\n",
       "point        0\n",
       "dtype: int64"
      ]
     },
     "execution_count": 8,
     "metadata": {},
     "output_type": "execute_result"
    }
   ],
   "source": [
    "df.isnull().sum()"
   ]
  },
  {
   "cell_type": "code",
   "execution_count": 10,
   "id": "3424d746",
   "metadata": {},
   "outputs": [
    {
     "data": {
      "text/plain": [
       "(83227, 3)"
      ]
     },
     "execution_count": 10,
     "metadata": {},
     "output_type": "execute_result"
    }
   ],
   "source": [
    "df.shape"
   ]
  },
  {
   "cell_type": "code",
   "execution_count": 13,
   "id": "d5fc42d1",
   "metadata": {},
   "outputs": [],
   "source": [
    "stop_words_list = stopwords.words(\"turkish\")"
   ]
  },
  {
   "cell_type": "code",
   "execution_count": 14,
   "id": "f15de4d9",
   "metadata": {},
   "outputs": [],
   "source": [
    "def preprocess(text):\n",
    "    text = text.lower()\n",
    "    text = re.sub(r\"\\n\", \"\", text)\n",
    "    text = re.sub(r\"\\t\", \"\", text)\n",
    "    text = text.translate(str.maketrans(\"\", \"\", string.punctuation))\n",
    "    words = text.split()\n",
    "    words = [word for word in words if not word in stop_words_list]\n",
    "    words = [word.strip() for word in words if len(word.strip()) > 1]\n",
    "    text = \" \".join(words)\n",
    "    return text"
   ]
  },
  {
   "cell_type": "code",
   "execution_count": 15,
   "id": "6bee3cf5",
   "metadata": {},
   "outputs": [],
   "source": [
    "df[\"comment\"] = df[\"comment\"].apply(preprocess)"
   ]
  },
  {
   "cell_type": "code",
   "execution_count": 23,
   "id": "0a63fae2",
   "metadata": {},
   "outputs": [],
   "source": [
    "def int_point(point):\n",
    "    return point[0]"
   ]
  },
  {
   "cell_type": "code",
   "execution_count": 24,
   "id": "b003467a",
   "metadata": {},
   "outputs": [],
   "source": [
    "df[\"point\"] = df[\"point\"].apply(int_point)"
   ]
  },
  {
   "cell_type": "code",
   "execution_count": 25,
   "id": "1a2b7e1e",
   "metadata": {},
   "outputs": [],
   "source": [
    "df[\"point\"] = df[\"point\"].astype(\"int\")"
   ]
  },
  {
   "cell_type": "code",
   "execution_count": 29,
   "id": "9b0b5530",
   "metadata": {},
   "outputs": [],
   "source": [
    "lemmatizer = WordNetLemmatizer()\n",
    "stemmer = PorterStemmer()"
   ]
  },
  {
   "cell_type": "code",
   "execution_count": 31,
   "id": "2c2779cb",
   "metadata": {},
   "outputs": [],
   "source": [
    "def lemmatizing(text):\n",
    "    stemmed_text = \"\"\n",
    "    for word in text.split():\n",
    "        stem = lemmatizer.lemmatize(word)\n",
    "        stemmed_text += stem\n",
    "        stemmed_text += \" \"\n",
    "        \n",
    "    stemmed_text = stemmed_text.strip()\n",
    "    return stemmed_text"
   ]
  },
  {
   "cell_type": "code",
   "execution_count": 32,
   "id": "7dde5f96",
   "metadata": {},
   "outputs": [],
   "source": [
    "df[\"comment\"] = df[\"comment\"].apply(lemmatizing)"
   ]
  },
  {
   "cell_type": "code",
   "execution_count": 33,
   "id": "32d4b041",
   "metadata": {},
   "outputs": [],
   "source": [
    "def stemming(text):\n",
    "    stemmed_text = \"\"\n",
    "    for word in text.split():\n",
    "        stem = stemmer.stem(word)\n",
    "        stemmed_text += stem\n",
    "        stemmed_text += \" \"\n",
    "        \n",
    "    stemmed_text = stemmed_text.strip()\n",
    "    return stemmed_text"
   ]
  },
  {
   "cell_type": "code",
   "execution_count": 34,
   "id": "51eea419",
   "metadata": {},
   "outputs": [],
   "source": [
    "df[\"comment\"] = df[\"comment\"].apply(stemming)"
   ]
  },
  {
   "cell_type": "code",
   "execution_count": 36,
   "id": "9bb2af38",
   "metadata": {},
   "outputs": [],
   "source": [
    "X = df[\"comment\"]\n",
    "y = df[\"point\"]"
   ]
  },
  {
   "cell_type": "code",
   "execution_count": 37,
   "id": "fb6243c9",
   "metadata": {},
   "outputs": [],
   "source": [
    "X_train, X_test, y_train, y_test = train_test_split(X, y, test_size=0.2, random_state=4242)"
   ]
  },
  {
   "cell_type": "code",
   "execution_count": 38,
   "id": "70012368",
   "metadata": {},
   "outputs": [],
   "source": [
    "vectorizer = CountVectorizer(max_features=1000)\n",
    "cv_train = vectorizer.fit_transform(X_train)\n",
    "cv_test = vectorizer.transform(X_test)"
   ]
  },
  {
   "cell_type": "code",
   "execution_count": 39,
   "id": "afa97869",
   "metadata": {},
   "outputs": [],
   "source": [
    "pca = PCA(n_components=100)\n",
    "X_train_pca = pca.fit_transform(cv_train.toarray())\n",
    "X_test_pca = pca.transform(cv_test.toarray())"
   ]
  },
  {
   "cell_type": "code",
   "execution_count": 40,
   "id": "fd2c91c3",
   "metadata": {},
   "outputs": [
    {
     "name": "stdout",
     "output_type": "stream",
     "text": [
      "RandomForest:  1.0405936625843208\n"
     ]
    }
   ],
   "source": [
    "rf_model = RandomForestRegressor()\n",
    "rf_model.fit(X_train_pca, y_train)\n",
    "y_pred = rf_model.predict(X_test_pca)\n",
    "print(\"Random Forest: \", mean_absolute_error(y_pred, y_test))"
   ]
  },
  {
   "cell_type": "code",
   "execution_count": 41,
   "id": "479a6da6",
   "metadata": {},
   "outputs": [
    {
     "name": "stdout",
     "output_type": "stream",
     "text": [
      "Linear Regression:  1.07319397878553\n"
     ]
    }
   ],
   "source": [
    "linreg = LinearRegression()\n",
    "linreg.fit(X_train_pca, y_train)\n",
    "y_pred = linreg.predict(X_test_pca)\n",
    "print(\"Linear Regression: \", mean_absolute_error(y_pred, y_test))"
   ]
  },
  {
   "cell_type": "code",
   "execution_count": 43,
   "id": "230da811",
   "metadata": {},
   "outputs": [
    {
     "name": "stdout",
     "output_type": "stream",
     "text": [
      "Decision Tree:  1.3954030207462091\n"
     ]
    }
   ],
   "source": [
    "dt_model = DecisionTreeRegressor()\n",
    "dt_model.fit(X_train_pca, y_train)\n",
    "y_pred = dt_model.predict(X_test_pca)\n",
    "print(\"Decision Tree: \", mean_absolute_error(y_pred, y_test))"
   ]
  },
  {
   "cell_type": "code",
   "execution_count": 44,
   "id": "e3b4e1af",
   "metadata": {},
   "outputs": [
    {
     "name": "stdout",
     "output_type": "stream",
     "text": [
      "KNN:  1.1324882854739877\n"
     ]
    }
   ],
   "source": [
    "knn_model = KNeighborsRegressor()\n",
    "knn_model.fit(X_train_pca, y_train)\n",
    "y_pred = knn_model.predict(X_test_pca)\n",
    "print(\"KNN: \", mean_absolute_error(y_pred, y_test))"
   ]
  },
  {
   "cell_type": "code",
   "execution_count": 46,
   "id": "7e0aeb8b",
   "metadata": {},
   "outputs": [
    {
     "name": "stdout",
     "output_type": "stream",
     "text": [
      "Lasso:  1.1966809249440982\n"
     ]
    }
   ],
   "source": [
    "lasso = Lasso()\n",
    "lasso.fit(X_train_pca, y_train)\n",
    "y_pred = lasso.predict(X_test_pca)\n",
    "print(\"Lasso: \", mean_absolute_error(y_pred, y_test))"
   ]
  },
  {
   "cell_type": "code",
   "execution_count": 47,
   "id": "9b8d5329",
   "metadata": {},
   "outputs": [
    {
     "name": "stdout",
     "output_type": "stream",
     "text": [
      "Ridge:  1.0731973624501523\n"
     ]
    }
   ],
   "source": [
    "ridge = Ridge()\n",
    "ridge.fit(X_train_pca, y_train)\n",
    "y_pred = ridge.predict(X_test_pca)\n",
    "print(\"Ridge: \", mean_absolute_error(y_pred, y_test))"
   ]
  },
  {
   "cell_type": "code",
   "execution_count": 48,
   "id": "647a1e12",
   "metadata": {},
   "outputs": [
    {
     "name": "stdout",
     "output_type": "stream",
     "text": [
      "Elastic Net:  1.1966809249440982\n"
     ]
    }
   ],
   "source": [
    "elastic_net = ElasticNet()\n",
    "elastic_net.fit(X_train_pca, y_train)\n",
    "y_pred = elastic_net.predict(X_test_pca)\n",
    "print(\"Elastic Net: \", mean_absolute_error(y_pred, y_test))"
   ]
  },
  {
   "cell_type": "code",
   "execution_count": null,
   "id": "cbecfdb7",
   "metadata": {},
   "outputs": [],
   "source": []
  }
 ],
 "metadata": {
  "kernelspec": {
   "display_name": "Python 3 (ipykernel)",
   "language": "python",
   "name": "python3"
  },
  "language_info": {
   "codemirror_mode": {
    "name": "ipython",
    "version": 3
   },
   "file_extension": ".py",
   "mimetype": "text/x-python",
   "name": "python",
   "nbconvert_exporter": "python",
   "pygments_lexer": "ipython3",
   "version": "3.8.16"
  }
 },
 "nbformat": 4,
 "nbformat_minor": 5
}
